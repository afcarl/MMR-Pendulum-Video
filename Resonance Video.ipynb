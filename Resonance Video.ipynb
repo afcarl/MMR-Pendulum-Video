{
 "cells": [
  {
   "cell_type": "code",
   "execution_count": null,
   "metadata": {
    "collapsed": true
   },
   "outputs": [],
   "source": [
    "import rebound\n",
    "import numpy as np\n",
    "import matplotlib.pyplot as plt\n",
    "%matplotlib inline"
   ]
  },
  {
   "cell_type": "code",
   "execution_count": null,
   "metadata": {
    "collapsed": true
   },
   "outputs": [],
   "source": [
    "def setup_sim():\n",
    "    sim = rebound.Simulation()\n",
    "    sim.units = ('AU', 'days', 'Msun')\n",
    "    # We can add Jupiter and four of its moons by name, since REBOUND is linked to the HORIZONS database.\n",
    "    labels = [\"Jupiter\", \"Io\", \"Europa\"]\n",
    "    #sim.add(labels)\n",
    "\n",
    "    sim.add(m=0.000954791915211)\n",
    "    sim.add(m=4.4908495628043e-8,a=0.00281895041549, e=0.00410976900750*2.2, inc=0.0383464557686*0., Omega=-0.377395916998, omega=-0.581381978207, f=-1.823050122780)\n",
    "    sim.add(m=2.4132920575575e-8,a=0.00448620889471, e=0.00921827235167*0.05, inc=0.0468742357719*0., Omega=-0.400332782240, omega= 2.581184196550, f=-0.910276392336)\n",
    "    os = sim.calculate_orbits()\n",
    "    sim.move_to_com()\n",
    "    sim.integrator = \"whfast\"\n",
    "    sim.dt = 0.02 * os[0].P  # 2% of Io's period\n",
    "    return sim\n",
    "sim = setup_sim()\n",
    "os = sim.calculate_orbits()"
   ]
  },
  {
   "cell_type": "code",
   "execution_count": null,
   "metadata": {},
   "outputs": [],
   "source": [
    "Nout = 50000          # number of points to display\n",
    "tmax = 40*365.25         # let the simulation run for 40 years\n",
    "Nmoons = 2\n",
    "print \"Io's period is {p}\".format(p=os[0].P)"
   ]
  },
  {
   "cell_type": "code",
   "execution_count": null,
   "metadata": {
    "collapsed": true
   },
   "outputs": [],
   "source": [
    "def bisect(sim,t1,t2):\n",
    "    tm = (t1+t2)/2.\n",
    "    if t2-t1<(5.0e-7):\n",
    "        return tm\n",
    "    sim.integrate(tm)\n",
    "    os = sim.calculate_orbits()\n",
    "    if (os[0].theta - os[1].theta)>0.:\n",
    "        t2 = tm\n",
    "        return bisect(sim,t1,t2)\n",
    "    else:\n",
    "        t1 = tm\n",
    "        return bisect(sim,t1,t2)"
   ]
  },
  {
   "cell_type": "code",
   "execution_count": null,
   "metadata": {
    "collapsed": true
   },
   "outputs": [],
   "source": [
    "def setup_reoriented_sim(xlist, vxlist):\n",
    "    if(xlist[2][0]>0):\n",
    "        rotation_angle = np.arccos((-1. * xlist[2][1])/((xlist[2][0]**2.+xlist[2][1]**2.)**(0.5)))\n",
    "    else:\n",
    "        rotation_angle = -np.arccos((-1. * xlist[2][1])/((xlist[2][0]**2.+xlist[2][1]**2.)**(0.5)))\n",
    "    c, s = np.cos(rotation_angle), np.sin(rotation_angle)\n",
    "    R = [[c,-s],[s,c]]\n",
    "    \n",
    "    sim = rebound.Simulation()\n",
    "    sim.units = ('AU', 'days', 'Msun')\n",
    "    masses = [0.000954791915211,4.4908495628043e-8,2.4132920575575e-8]\n",
    "    for i in range(3):\n",
    "        xy, vxy = np.ones(2), np.ones(2)\n",
    "        xy[0], xy[1] = xlist[i][0], xlist[i][1]\n",
    "        vxy[0], vxy[1] = vxlist[i][0], vxlist[i][1]\n",
    "        r_xy = np.dot(xy,R)\n",
    "        r_vxy = np.dot(vxy,R)\n",
    "        sim.add(m=masses[i], x=r_xy[0], y=r_xy[1], vx=r_vxy[0], vy=r_vxy[1])\n",
    "    sim.move_to_com()\n",
    "    return sim"
   ]
  },
  {
   "cell_type": "code",
   "execution_count": null,
   "metadata": {
    "scrolled": true
   },
   "outputs": [],
   "source": [
    "List_of_all_sims = []\n",
    "List_of_all_ecc = []\n",
    "List_of_all_sim_times = []\n",
    "\n",
    "import matplotlib.gridspec as gridspec\n",
    "import gc\n",
    "sim = setup_sim()\n",
    "sim_times = []\n",
    "delta_angle_old = 0.1\n",
    "prev_time = 0.\n",
    "iteration = 0\n",
    "x = np.zeros((Nmoons,Nout))\n",
    "ecc = np.zeros((Nmoons,Nout))\n",
    "longitude = np.zeros((Nmoons,Nout))\n",
    "varpi = np.zeros((Nmoons,Nout))\n",
    "ps = sim.particles\n",
    "\n",
    "while(prev_time < tmax):\n",
    "    sim.step()\n",
    "    os = sim.calculate_orbits()\n",
    "    delta_angle_new = os[0].theta - os[1].theta\n",
    "    if(delta_angle_new>0 and delta_angle_old<0):\n",
    "        time_conjunction = bisect(sim, prev_time, sim.t)\n",
    "        os = sim.calculate_orbits()\n",
    "        if(np.isclose([os[0].theta],[os[1].theta],atol=1e-5,rtol=0.0)):\n",
    "            sim_times.append(time_conjunction)\n",
    "            #Rotating\n",
    "            cartesian_xlist = []\n",
    "            cartesian_vxlist = []\n",
    "            for i in range(3):\n",
    "                cartesian_xlist.append(sim.particles[i].xyz)\n",
    "                cartesian_vxlist.append(sim.particles[i].vxyz)\n",
    "            sim_temp = setup_reoriented_sim(cartesian_xlist, cartesian_vxlist)\n",
    "            #commented code is for printing frames while running (much ram required). OrbitPlot modified to take fig and axes as argument.\n",
    "            #fig = plt.figure(figsize=[6,9])\n",
    "            #fig.suptitle(\"2:1 Mean Motion Resonance, at Conjunctions in Rotating Frame\", fontsize=12)\n",
    "            #gs = gridspec.GridSpec(3,1)\n",
    "            #ax1 = plt.subplot(gs[:2, :])\n",
    "            #fakeforlegend = plt.Line2D((0,1),(0,0), color='k', linestyle='dotted', label='Periastron')\n",
    "            #ax1.legend([fakeforlegend], ['Periastron'], loc='upper right',prop={'size': 9})\n",
    "            #dummy = rebound.OrbitPlot(sim_temp, trails=True, periastron=True, passedFig=fig, passedAx=ax1) #fig.axes[0].axis('off') # turn off axes\n",
    "            \n",
    "            #Recording\n",
    "            for j in range(Nmoons):\n",
    "                x[j][iteration] = ps[j+1].x\n",
    "                ecc[j][iteration] = os[j].e\n",
    "                longitude[j][iteration] = os[j].l\n",
    "                varpi[j][iteration] = os[j].Omega + os[j].omega\n",
    "            \n",
    "            #frame2=fig.add_axes((.1,.1,.8,.2))\n",
    "            #ax2 = plt.subplot(gs[2, :])\n",
    "            #plt.xlim([0, tmax])\n",
    "            #plt.ylim([0,0.01])\n",
    "            #ax2.set_xlabel(\"Time\")\n",
    "            #ax2.set_ylabel(\"Eccentricity\")\n",
    "            #plt.plot(sim_times[:iteration], ecc[0][:iteration], label=\"Inner planet eccentricity\")\n",
    "            #plt.plot(sim_times[:iteration], ecc[1][:iteration], label=\"Outer planet eccentricity\")\n",
    "            #plt.legend(loc='upper right',prop={'size': 9})\n",
    "            #fig.savefig('tmp/pngs_conj_e/{0:0=5d}.png'.format(iteration))\n",
    "            #plt.close('all')\n",
    "            \n",
    "            #record all data for frames - more memory efficient (somehow).\n",
    "            List_of_all_sims.append(sim_temp)\n",
    "            List_of_all_ecc.append(np.copy(ecc))\n",
    "            List_of_all_sim_times.append(np.copy(sim_times))\n",
    "            #Post step\n",
    "            iteration += 1\n",
    "            if(iteration%100==0):\n",
    "                print \"Iteration:{a}\".format(a=iteration)\n",
    "            sim.step()\n",
    "            os = sim.calculate_orbits()\n",
    "    delta_angle_old = os[0].theta - os[1].theta\n",
    "    prev_time = sim.t"
   ]
  },
  {
   "cell_type": "code",
   "execution_count": null,
   "metadata": {
    "scrolled": true
   },
   "outputs": [],
   "source": [
    "print len(List_of_all_sims)\n",
    "#0 to 4104, p from 0 to 10\n",
    "p = 10\n",
    "for i in range(((p)*400),((p+1)*400)):\n",
    "    sim_temp = List_of_all_sims[i]\n",
    "    sim_times = List_of_all_sim_times[i]\n",
    "    ecc = List_of_all_ecc[i]\n",
    "    \n",
    "    fig = plt.figure(figsize=[6,9])\n",
    "    fig.suptitle(\"2:1 Mean Motion Resonance, at Conjunctions in Rotating Frame\", fontsize=12)\n",
    "    gs = gridspec.GridSpec(3,1)\n",
    "    ax1 = plt.subplot(gs[:2, :])\n",
    "    fakeforlegend = plt.Line2D((0,1),(0,0), color='k', linestyle='dotted', label='Periastron')\n",
    "    ax1.legend([fakeforlegend], ['Periastron'], loc='upper right',prop={'size': 9})\n",
    "    dummy = rebound.OrbitPlot(sim_temp, trails=True, periastron=True, passedFig=fig, passedAx=ax1) #fig.axes[0].axis('off') # turn off axes\n",
    "    ax2 = plt.subplot(gs[2, :])\n",
    "    plt.xlim([0, tmax])\n",
    "    plt.ylim([0,0.01])\n",
    "    ax2.set_xlabel(\"Time\")\n",
    "    ax2.set_ylabel(\"Eccentricity\")\n",
    "    plt.plot(sim_times[:i], ecc[0][:i], label=\"Inner planet eccentricity\")\n",
    "    plt.plot(sim_times[:i], ecc[1][:i], label=\"Outer planet eccentricity\")\n",
    "    plt.legend(loc='upper right',prop={'size': 9})\n",
    "    fig.savefig('tmp/pngs_conj_e/{0:0=5d}.png'.format(i))\n",
    "    plt.close('all')\n",
    "    if(i%20==0):\n",
    "        print i\n",
    "print \"Done, safe to restart\""
   ]
  },
  {
   "cell_type": "code",
   "execution_count": null,
   "metadata": {},
   "outputs": [],
   "source": [
    "import glob\n",
    "list_all_files = glob.glob('tmp/pngs_conj_e/*.png')\n",
    "print len(list_all_files)"
   ]
  },
  {
   "cell_type": "code",
   "execution_count": null,
   "metadata": {},
   "outputs": [],
   "source": [
    "'''ffmpeg -f image2 -r 60 -i %05d.png -crf 16 -vcodec libx264 -y movie2_60fps.mp4\n",
    "'''"
   ]
  },
  {
   "cell_type": "code",
   "execution_count": null,
   "metadata": {
    "collapsed": true
   },
   "outputs": [],
   "source": []
  },
  {
   "cell_type": "code",
   "execution_count": null,
   "metadata": {
    "collapsed": true
   },
   "outputs": [],
   "source": []
  }
 ],
 "metadata": {
  "kernelspec": {
   "display_name": "Python 2",
   "language": "python",
   "name": "python2"
  },
  "language_info": {
   "codemirror_mode": {
    "name": "ipython",
    "version": 2
   },
   "file_extension": ".py",
   "mimetype": "text/x-python",
   "name": "python",
   "nbconvert_exporter": "python",
   "pygments_lexer": "ipython2",
   "version": "2.7.12"
  }
 },
 "nbformat": 4,
 "nbformat_minor": 2
}
